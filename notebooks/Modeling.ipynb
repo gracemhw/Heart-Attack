{
 "cells": [
  {
   "cell_type": "markdown",
   "id": "337633fb",
   "metadata": {},
   "source": [
    "# <h1><center>Heart Attack Dataset -- Modeling</center></h1>"
   ]
  },
  {
   "cell_type": "markdown",
   "id": "497c1b5d",
   "metadata": {},
   "source": [
    "### <center>By: Hio Wa Mak</center>"
   ]
  },
  {
   "cell_type": "markdown",
   "id": "e4269c0e",
   "metadata": {},
   "source": [
    "# Import packages"
   ]
  },
  {
   "cell_type": "code",
   "execution_count": 23,
   "id": "31eb69ff",
   "metadata": {},
   "outputs": [],
   "source": [
    "#Import packages\n",
    "import time\n",
    "import pandas as pd\n",
    "import numpy as np\n",
    "import matplotlib.pyplot as plt\n",
    "import seaborn as sns\n",
    "import os\n",
    "from scipy.stats import uniform \n",
    "from imblearn.under_sampling import RandomUnderSampler\n",
    "from imblearn.over_sampling import SMOTE\n",
    "from sklearn import linear_model, preprocessing\n",
    "from sklearn.model_selection import train_test_split, GridSearchCV, RandomizedSearchCV, cross_val_predict\n",
    "import statsmodels.api as sm \n",
    "from sklearn.linear_model import LogisticRegression\n",
    "from sklearn.ensemble import RandomForestClassifier\n",
    "from sklearn.svm import SVC\n",
    "from xgboost import XGBClassifier\n",
    "from sklearn.naive_bayes import GaussianNB\n",
    "from sklearn.metrics import r2_score, mean_squared_error, mean_absolute_error\n",
    "from sklearn.pipeline import make_pipeline\n",
    "from sklearn.metrics import roc_curve\n",
    "from sklearn.metrics import classification_report, confusion_matrix, accuracy_score"
   ]
  },
  {
   "cell_type": "markdown",
   "id": "7305748f",
   "metadata": {},
   "source": [
    "# Read in the data"
   ]
  },
  {
   "cell_type": "code",
   "execution_count": 2,
   "id": "3c04f0b4",
   "metadata": {},
   "outputs": [],
   "source": [
    "# Read CSV files into DataFrames\n",
    "X_train_scaled_df = pd.read_csv('../data/X_train_scaled.csv')\n",
    "X_test_scaled_df = pd.read_csv('../data/X_test_scaled.csv')\n",
    "y_train_df = pd.read_csv('../data/y_train.csv')\n",
    "y_test_df = pd.read_csv('../data/y_test.csv')\n",
    "X = pd.read_csv('../data/X.csv')\n",
    "\n",
    "# Convert DataFrames to Numpy arrays\n",
    "X_train= X_train_scaled_df.values\n",
    "X_test = X_test_scaled_df.values\n",
    "y_train = y_train_df.values.ravel()\n",
    "y_test = y_test_df.values.ravel()"
   ]
  },
  {
   "cell_type": "markdown",
   "id": "dcf4baad",
   "metadata": {},
   "source": [
    "# Dealing with Imbalanced data"
   ]
  },
  {
   "cell_type": "markdown",
   "id": "08d10d07",
   "metadata": {},
   "source": [
    "In the Heart Attack dataset, the target variable 'HadHeartAttack' is imbalanced (94% of the participants had not had an heart attack). I will explore a few different methods in dealing with imbalanced data so that the classification results, especially those target imbalanced data, are improved and generalizable to the testing data.\n",
    "\n",
    "Here are a few strategies:\n",
    "1. Select evaluation metrics that are better for imbalanced data, including precision, recall, and f1-score\n",
    "2. Add class_weights in the models so that it adjusts for imbalanced data"
   ]
  },
  {
   "cell_type": "markdown",
   "id": "855bf614",
   "metadata": {},
   "source": [
    "# Modeling"
   ]
  },
  {
   "cell_type": "markdown",
   "id": "7284b49c",
   "metadata": {},
   "source": [
    "## Logistic Regression"
   ]
  },
  {
   "cell_type": "markdown",
   "id": "f784ab48",
   "metadata": {},
   "source": [
    "Let's fit a regular logistic regression model using randomized search cross-validation, and accuracy as scoring criterion"
   ]
  },
  {
   "cell_type": "code",
   "execution_count": 24,
   "id": "1fce9d84",
   "metadata": {},
   "outputs": [
    {
     "name": "stdout",
     "output_type": "stream",
     "text": [
      "Fitting 5 folds for each of 10 candidates, totalling 50 fits\n",
      "Estimation time: 20.61 minutes\n"
     ]
    }
   ],
   "source": [
    "#Fit a logistic regression model\n",
    "\n",
    "#Define parameters for randomized search\n",
    "param_distributions = {\n",
    "    'C': uniform(0.001, 100),  # Uniform distribution for C, ranges from 0.001 to 100\n",
    "    'penalty': ['l1', 'l2'],   # Regularization type (L1 = Lasso, L2 = Ridge)\n",
    "    'solver': ['liblinear', 'saga']  # Solvers that support L1 and L2\n",
    "}\n",
    "\n",
    "#Set up the logistic regression model\n",
    "logreg = LogisticRegression()\n",
    "\n",
    "# Perform randomized search with 10 iterations and 5-fold cross-validation\n",
    "logreg_random = RandomizedSearchCV(estimator = logreg, \n",
    "                                   param_distributions = param_distributions, \n",
    "                                   n_iter=20, \n",
    "                                   cv=5, \n",
    "                                   scoring='accuracy', \n",
    "                                   random_state=42, \n",
    "                                   verbose=1,\n",
    "                                   n_jobs=-1)\n",
    "\n",
    "# Time the fitting process\n",
    "start_time = time.time()\n",
    "logreg_random.fit(X_train, y_train)\n",
    "end_time = time.time()\n",
    "est_time = (end_time - start_time)\n",
    "\n",
    "# Print estimation time\n",
    "print(f\"Estimation time: {est_time/60:.2f} minutes\")"
   ]
  },
  {
   "cell_type": "code",
   "execution_count": 25,
   "id": "54b47c25",
   "metadata": {},
   "outputs": [
    {
     "name": "stdout",
     "output_type": "stream",
     "text": [
      "Confusion Matrix:\n",
      "[[322946   3582]\n",
      " [ 15045   4674]]\n",
      "\n",
      "Classification Report:\n",
      "              precision    recall  f1-score   support\n",
      "\n",
      "           0       0.96      0.99      0.97    326528\n",
      "           1       0.57      0.24      0.33     19719\n",
      "\n",
      "    accuracy                           0.95    346247\n",
      "   macro avg       0.76      0.61      0.65    346247\n",
      "weighted avg       0.93      0.95      0.94    346247\n",
      "\n"
     ]
    }
   ],
   "source": [
    "# Obtain evaluation metrics for training data:\n",
    "# Step 1: Use cross_val_predict to get cross-validated predictions for training data\n",
    "y_train_pred = cross_val_predict(logreg_random.best_estimator_, X_train, y_train, cv=5)\n",
    "\n",
    "# Step 2: Calculate the confusion matrix\n",
    "conf_matrix = confusion_matrix(y_train, y_train_pred)\n",
    "\n",
    "# Step 3: Generate the classification report\n",
    "class_report = classification_report(y_train, y_train_pred)\n",
    "\n",
    "# Print results\n",
    "print(\"Confusion Matrix:\")\n",
    "print(conf_matrix)\n",
    "\n",
    "print(\"\\nClassification Report:\")\n",
    "print(class_report)"
   ]
  },
  {
   "cell_type": "markdown",
   "id": "5ecfd3df",
   "metadata": {},
   "source": [
    "Although accuracy score is very high (0.95), the recall score is very low (0.24) for the positive class. For imbalanced data, recall is a more important metric than accuracy, especially the goal is to minimize false negative."
   ]
  },
  {
   "cell_type": "markdown",
   "id": "81d9d953",
   "metadata": {},
   "source": [
    "## Logistic regression"
   ]
  },
  {
   "cell_type": "markdown",
   "id": "6ac1df71",
   "metadata": {},
   "source": [
    "### 'class_weight' as hyperparameter and 'recall' as evaluation metric for cross validation"
   ]
  },
  {
   "cell_type": "code",
   "execution_count": 26,
   "id": "f8598242",
   "metadata": {},
   "outputs": [
    {
     "name": "stdout",
     "output_type": "stream",
     "text": [
      "Fitting 5 folds for each of 10 candidates, totalling 50 fits\n",
      "Estimation time: 12.01 minutes\n",
      "Best hyperparameters found: {'C': 33.371861113902185, 'class_weight': 'balanced', 'penalty': 'l2', 'solver': 'liblinear'}\n"
     ]
    }
   ],
   "source": [
    "#Since we have unbalanced design, let's do this again using class_weight as a hyperparameter for tuning \n",
    "#And using \"recall\" as the main evaluation metric\n",
    "\n",
    "#Fit a logistic regression model\n",
    "#Define parameters for randomized search\n",
    "param_distributions = {\n",
    "    'C': uniform(0.001, 100),  # Uniform distribution for C, ranges from 0.001 to 100\n",
    "    'penalty': ['l1', 'l2'],   # Regularization type (L1 = Lasso, L2 = Ridge)\n",
    "    'solver': ['liblinear', 'saga'],  # Solvers that support L1 and L2\n",
    "    'class_weight': [None, 'balanced']\n",
    "}\n",
    "\n",
    "#Set up the logistic regression model\n",
    "logreg = LogisticRegression()\n",
    "\n",
    "# Perform randomized search with 10 iterations and 5-fold cross-validation\n",
    "logreg_random = RandomizedSearchCV(estimator = logreg, \n",
    "                                   param_distributions = param_distributions, \n",
    "                                   n_iter=20, # Number of different combinations to try\n",
    "                                   cv=5, \n",
    "                                   scoring='recall', \n",
    "                                   random_state=42, \n",
    "                                   verbose=1,\n",
    "                                   n_jobs=-1) # Use all available cores (8)\n",
    "\n",
    "# Time the fitting process\n",
    "start_time = time.time()\n",
    "logreg_random.fit(X_train, y_train)\n",
    "end_time = time.time()\n",
    "est_time = (end_time - start_time)\n",
    "\n",
    "# Print estimation time\n",
    "print(f\"Estimation time: {est_time/60:.2f} minutes\")\n",
    "\n",
    "# Print the best parameters\n",
    "print(\"Best hyperparameters found:\", logreg_random.best_params_)"
   ]
  },
  {
   "cell_type": "code",
   "execution_count": 27,
   "id": "27285dc0",
   "metadata": {},
   "outputs": [
    {
     "name": "stdout",
     "output_type": "stream",
     "text": [
      "Confusion Matrix:\n",
      "[[272373  54155]\n",
      " [  4638  15081]]\n",
      "\n",
      "Classification Report:\n",
      "              precision    recall  f1-score   support\n",
      "\n",
      "           0       0.98      0.83      0.90    326528\n",
      "           1       0.22      0.76      0.34     19719\n",
      "\n",
      "    accuracy                           0.83    346247\n",
      "   macro avg       0.60      0.80      0.62    346247\n",
      "weighted avg       0.94      0.83      0.87    346247\n",
      "\n"
     ]
    }
   ],
   "source": [
    "# Obtain evaluation metrics for training data:\n",
    "# Step 1: Use cross_val_predict to get cross-validated predictions for training data\n",
    "y_train_pred = cross_val_predict(logreg_random.best_estimator_, X_train, y_train, cv=5)\n",
    "\n",
    "# Step 2: Calculate the confusion matrix\n",
    "conf_matrix = confusion_matrix(y_train, y_train_pred)\n",
    "\n",
    "# Step 3: Generate the classification report\n",
    "logreg_class_report = classification_report(y_train, y_train_pred)\n",
    "\n",
    "# Print results\n",
    "print(\"Confusion Matrix:\")\n",
    "print(conf_matrix)\n",
    "\n",
    "print(\"\\nLogistic Regression Classification Report:\")\n",
    "print(logreg_class_report)"
   ]
  },
  {
   "cell_type": "code",
   "execution_count": 28,
   "id": "f5fcdfc8",
   "metadata": {},
   "outputs": [
    {
     "name": "stdout",
     "output_type": "stream",
     "text": [
      "                    Feature  Coefficient  Abs_Coefficient\n",
      "25              AgeCategory     0.707942         0.707942\n",
      "7                 HadAngina     0.591795         0.591795\n",
      "27                   Female    -0.334749         0.334749\n",
      "3           LastCheckupTime    -0.292839         0.292839\n",
      "24                ChestScan     0.234134         0.234134\n",
      "8                 HadStroke     0.231545         0.231545\n",
      "6              RemovedTeeth     0.167005         0.167005\n",
      "22             SmokerStatus     0.131649         0.131649\n",
      "15              HadDiabetes     0.131207         0.131207\n",
      "4        PhysicalActivities    -0.076401         0.076401\n",
      "11                  HadCOPD     0.060892         0.060892\n",
      "26          AlcoholDrinkers    -0.053241         0.053241\n",
      "13         HadKidneyDisease     0.051079         0.051079\n",
      "28              BMICategory     0.049138         0.049138\n",
      "0             GeneralHealth    -0.045225         0.045225\n",
      "34                 Colorado     0.041456         0.041456\n",
      "17  BlindOrVisionDifficulty     0.039679         0.039679\n",
      "31                  Arizona     0.038358         0.038358\n",
      "5                SleepHours    -0.037687         0.037687\n",
      "9                 HadAsthma     0.036489         0.036489\n"
     ]
    }
   ],
   "source": [
    "#Examine feature coefficient from the best model\n",
    "coefficients = logreg_random.best_estimator_.coef_[0]\n",
    "\n",
    "feature_importance = pd.DataFrame({\n",
    "    'Feature': X.columns,\n",
    "    'Coefficient': coefficients\n",
    "})\n",
    "\n",
    "# Sort by absolute value of coefficients\n",
    "feature_importance['Abs_Coefficient'] = feature_importance['Coefficient'].abs()\n",
    "feature_importance = feature_importance.sort_values(by='Abs_Coefficient', ascending=False)\n",
    "\n",
    "#The top 20 features\n",
    "print(feature_importance[0:20])"
   ]
  },
  {
   "cell_type": "code",
   "execution_count": 29,
   "id": "c5ecaee9",
   "metadata": {},
   "outputs": [
    {
     "data": {
      "image/png": "[encoded data removed]",
      "text/plain": [
       "<Figure size 1000x600 with 1 Axes>"
      ]
     },
     "metadata": {},
     "output_type": "display_data"
    }
   ],
   "source": [
    "# Plot the top 20 features based on absolute coefficient values\n",
    "top_20_features = feature_importance.head(20)  # Select the top 20 features\n",
    "\n",
    "plt.figure(figsize=(10, 6))\n",
    "plt.barh(top_20_features['Feature'], top_20_features['Coefficient'], color='skyblue')  # Horizontal bar plot\n",
    "plt.xlabel('Coefficient Value')\n",
    "plt.ylabel('Feature')\n",
    "plt.title('Top 20 Features by Coefficient Value (Logistic Regression)')\n",
    "plt.gca().invert_yaxis()  # Invert y-axis to have the largest feature at the top\n",
    "plt.show()"
   ]
  },
  {
   "cell_type": "markdown",
   "id": "b73250d0",
   "metadata": {},
   "source": [
    "## Random Forest"
   ]
  },
  {
   "cell_type": "markdown",
   "id": "f1b0e59c",
   "metadata": {},
   "source": [
    "Tree-based model can be a good choice for imbalanced data. Let's fit a random forest model"
   ]
  },
  {
   "cell_type": "code",
   "execution_count": 30,
   "id": "97f1c7e5",
   "metadata": {},
   "outputs": [
    {
     "name": "stdout",
     "output_type": "stream",
     "text": [
      "Fitting 5 folds for each of 20 candidates, totalling 100 fits\n",
      "Estimation time: 78.78 minutes\n",
      "Best hyperparameters found: {'n_estimators': 200, 'max_features': 'log2', 'max_depth': 10, 'criterion': 'entropy', 'class_weight': 'balanced'}\n"
     ]
    }
   ],
   "source": [
    "#Fit a random forest model\n",
    "\n",
    "#Define parameters for randomized search\n",
    "\n",
    "param_dist = {\n",
    "    'n_estimators': [50, 100, 200],\n",
    "    'criterion': ['gini', 'entropy'],\n",
    "    'max_features': [None, 'sqrt', 'log2'],\n",
    "    'max_depth': [None, 10, 20, 30],\n",
    "    'class_weight': [None, 'balanced']\n",
    "    #'min_samples_split': [2, 5, 10],\n",
    "    #'min_samples_leaf': [1, 2, 4],\n",
    "}\n",
    "\n",
    "#Set up the random forest model\n",
    "rf = RandomForestClassifier(random_state=42)\n",
    "\n",
    "# Setup the RandomizedSearchCV\n",
    "rf_random = RandomizedSearchCV(estimator=rf,\n",
    "                               param_distributions=param_dist,\n",
    "                               n_iter=20,  \n",
    "                               cv=5, \n",
    "                               scoring=\"recall\",\n",
    "                               verbose=2,\n",
    "                               random_state=42,\n",
    "                               n_jobs=-1)  \n",
    "\n",
    "# Time the fitting process\n",
    "start_time = time.time()\n",
    "rf_random.fit(X_train, y_train)\n",
    "end_time = time.time()\n",
    "est_time = (end_time - start_time)\n",
    "\n",
    "# Print estimation time\n",
    "print(f\"Estimation time: {est_time/60:.2f} minutes\")\n",
    "\n",
    "# Print the best parameters\n",
    "print(\"Best hyperparameters found:\", rf_random.best_params_)"
   ]
  },
  {
   "cell_type": "code",
   "execution_count": 31,
   "id": "48c0b318",
   "metadata": {},
   "outputs": [
    {
     "name": "stdout",
     "output_type": "stream",
     "text": [
      "Confusion Matrix:\n",
      "[[265230  61298]\n",
      " [  4321  15398]]\n",
      "\n",
      "Classification Report:\n",
      "              precision    recall  f1-score   support\n",
      "\n",
      "           0       0.98      0.81      0.89    326528\n",
      "           1       0.20      0.78      0.32     19719\n",
      "\n",
      "    accuracy                           0.81    346247\n",
      "   macro avg       0.59      0.80      0.60    346247\n",
      "weighted avg       0.94      0.81      0.86    346247\n",
      "\n"
     ]
    }
   ],
   "source": [
    "# Obtain evaluation metrics for training data:\n",
    "# Step 1: Use cross_val_predict to get cross-validated predictions for training data\n",
    "y_train_pred = cross_val_predict(rf_random.best_estimator_, X_train, y_train, cv=5)\n",
    "\n",
    "# Step 2: Calculate the confusion matrix\n",
    "conf_matrix = confusion_matrix(y_train, y_train_pred)\n",
    "\n",
    "# Step 3: Generate the classification report\n",
    "rf_class_report = classification_report(y_train, y_train_pred)\n",
    "\n",
    "# Print results\n",
    "print(\"Confusion Matrix:\")\n",
    "print(conf_matrix)\n",
    "\n",
    "print(\"\\nRandom Forest Classification Report:\")\n",
    "print(rf_class_report)"
   ]
  },
  {
   "cell_type": "code",
   "execution_count": 38,
   "id": "7e6e6883",
   "metadata": {},
   "outputs": [],
   "source": [
    "#TN, FP, FN, TP = conf_matrix.ravel()\n",
    "#print(f'accuracy: {(TP + TN)/(TP + TN + FP + FN):.4f}')\n",
    "#print(f'precision: {TP/(TP+ FP):.4f}')\n",
    "#print(f'recall: {TP/(TP+ FN):.4f}')\n",
    "#print(f'f1-score: {2*TP/(2*TP+ FP+ FN):.4f}')"
   ]
  },
  {
   "cell_type": "code",
   "execution_count": 32,
   "id": "a0fb2f5a",
   "metadata": {},
   "outputs": [
    {
     "name": "stdout",
     "output_type": "stream",
     "text": [
      "                Feature  Importance\n",
      "7             HadAngina    0.291904\n",
      "25          AgeCategory    0.140246\n",
      "24            ChestScan    0.079703\n",
      "3       LastCheckupTime    0.066297\n",
      "6          RemovedTeeth    0.055570\n",
      "19    DifficultyWalking    0.044730\n",
      "8             HadStroke    0.043432\n",
      "15          HadDiabetes    0.037931\n",
      "14         HadArthritis    0.030979\n",
      "1    PhysicalHealthDays    0.023853\n",
      "11              HadCOPD    0.023411\n",
      "27               Female    0.021477\n",
      "22         SmokerStatus    0.020051\n",
      "16  DeafOrHardOfHearing    0.014595\n",
      "5            SleepHours    0.012178\n",
      "4    PhysicalActivities    0.011619\n",
      "13     HadKidneyDisease    0.011372\n",
      "26      AlcoholDrinkers    0.007027\n",
      "0         GeneralHealth    0.006519\n",
      "21    DifficultyErrands    0.005905\n"
     ]
    }
   ],
   "source": [
    "#Examine feature coefficient from the best model\n",
    "importances = rf_random.best_estimator_.feature_importances_  # Get feature importances\n",
    "\n",
    "# Create a DataFrame to display the feature importances\n",
    "feature_importance_df = pd.DataFrame({\n",
    "    'Feature': X.columns,\n",
    "    'Importance': importances\n",
    "})\n",
    "\n",
    "# Sort by importance\n",
    "feature_importance_df = feature_importance_df.sort_values(by='Importance', ascending=False)\n",
    "\n",
    "# Print the top 20 most important features\n",
    "print(feature_importance_df.head(20))"
   ]
  },
  {
   "cell_type": "code",
   "execution_count": 33,
   "id": "49a998ad",
   "metadata": {},
   "outputs": [
    {
     "data": {
      "image/png": "[encoded data removed]",
      "text/plain": [
       "<Figure size 1000x600 with 1 Axes>"
      ]
     },
     "metadata": {},
     "output_type": "display_data"
    }
   ],
   "source": [
    "# Select the top 20 most important features\n",
    "top_20_features = feature_importance_df.sort_values(by='Importance', ascending=False).head(20)\n",
    "\n",
    "# Plot the top 20 feature importances\n",
    "plt.figure(figsize=(10, 6))\n",
    "plt.barh(top_20_features['Feature'], top_20_features['Importance'], color='skyblue')\n",
    "plt.xlabel('Feature Importance')\n",
    "plt.ylabel('Feature')\n",
    "plt.title('Top 20 Feature Importances from Best Random Forest Model')\n",
    "plt.gca().invert_yaxis()  # Invert y-axis to show most important at the top\n",
    "plt.show()"
   ]
  },
  {
   "cell_type": "markdown",
   "id": "a1d66ff8",
   "metadata": {},
   "source": [
    "## Support Vector Machine (SVMs)"
   ]
  },
  {
   "cell_type": "markdown",
   "id": "0bd55af8",
   "metadata": {},
   "source": [
    "Support vector machine are computationally expensive, especially for large datasets, which is the case here (~400000 participants). I will need to undersample the majority class to help with class-imbalanced problem and to reduce computational time."
   ]
  },
  {
   "cell_type": "code",
   "execution_count": 3,
   "id": "e7a84d0a",
   "metadata": {},
   "outputs": [
    {
     "name": "stdout",
     "output_type": "stream",
     "text": [
      "Original dataset shape: (346247, 83)\n",
      "Undersampling dataset shape: (39438, 83)\n"
     ]
    }
   ],
   "source": [
    "# Initialize the undersampler\n",
    "undersampler = RandomUnderSampler(sampling_strategy='auto', random_state=42)\n",
    "#undersample the majority class to 50% of the minority class\n",
    "\n",
    "# Apply undersampling on the training data\n",
    "X_train_undersampled, y_train_undersampled = undersampler.fit_resample(X_train, y_train)\n",
    "\n",
    "print(f\"Original dataset shape: {X_train.shape}\")\n",
    "print(f\"Undersampling dataset shape: {X_train_undersampled.shape}\")"
   ]
  },
  {
   "cell_type": "code",
   "execution_count": 6,
   "id": "7e187541",
   "metadata": {},
   "outputs": [],
   "source": [
    "# Initialize the SVM model with default hyperparameters\n",
    "svm_model = SVC(kernel='linear', C=1.0, random_state=42)\n",
    "\n",
    "# Fit the SVM model on the training data\n",
    "# Time the fitting process\n",
    "start_time = time.time()\n",
    "svm_model.fit(X_resampled, y_resampled)\n",
    "end_time = time.time()\n",
    "est_time = (end_time - start_time)\n",
    "\n",
    "# Print estimation time\n",
    "print(f\"Estimation time: {est_time/60:.2f} minutes\")"
   ]
  },
  {
   "cell_type": "code",
   "execution_count": 8,
   "id": "ced4cb79",
   "metadata": {},
   "outputs": [
    {
     "name": "stdout",
     "output_type": "stream",
     "text": [
      "Estimation time: 21.56 minutes\n",
      "Confusion Matrix:\n",
      "[[36951  2487]\n",
      " [ 8468 11251]]\n",
      "\n",
      "Classification Report:\n",
      "              precision    recall  f1-score   support\n",
      "\n",
      "           0       0.81      0.94      0.87     39438\n",
      "           1       0.82      0.57      0.67     19719\n",
      "\n",
      "    accuracy                           0.81     59157\n",
      "   macro avg       0.82      0.75      0.77     59157\n",
      "weighted avg       0.82      0.81      0.80     59157\n",
      "\n"
     ]
    }
   ],
   "source": [
    "# Print estimation time\n",
    "print(f\"Estimation time: {est_time/60:.2f} minutes\")\n",
    "\n",
    "# Make predictions\n",
    "y_resampled_pred = svm_model.predict(X_resampled)\n",
    "\n",
    "# Calculate the confusion matrix\n",
    "conf_matrix = confusion_matrix(y_resampled, y_resampled_pred)\n",
    "\n",
    "# Generate the classification report\n",
    "svm_class_report = classification_report(y_resampled, y_resampled_pred)\n",
    "\n",
    "# Print results\n",
    "print(\"Confusion Matrix:\")\n",
    "print(conf_matrix)\n",
    "\n",
    "print(\"\\nSVM Classification Report:\")\n",
    "print(svm_class_report)"
   ]
  },
  {
   "cell_type": "code",
   "execution_count": null,
   "id": "4b507872",
   "metadata": {},
   "outputs": [
    {
     "name": "stdout",
     "output_type": "stream",
     "text": [
      "Fitting 5 folds for each of 1 candidates, totalling 5 fits\n"
     ]
    }
   ],
   "source": [
    "# Define parameters for randomized search for SVM\n",
    "param_dist = {\n",
    "    'C': [0.1, 1, 10, 100],   # Regularization parameter\n",
    "    'kernel': ['linear', 'poly'],  # Kernel types\n",
    "    'gamma': ['scale', 'auto'],  # Kernel coefficient\n",
    "    'class_weight': [None, 'balanced']  # Handling imbalanced data\n",
    "}\n",
    "\n",
    "# Set up the SVM model\n",
    "svm = SVC(random_state=42)\n",
    "\n",
    "# Setup the RandomizedSearchCV\n",
    "svm_random = RandomizedSearchCV(estimator=svm,\n",
    "                                param_distributions=param_dist,\n",
    "                                n_iter=1,\n",
    "                                cv=5,\n",
    "                                scoring=\"recall\",\n",
    "                                verbose=2,\n",
    "                                random_state=42,\n",
    "                                n_jobs=-1)\n",
    "\n",
    "# Time the fitting process\n",
    "start_time = time.time()\n",
    "svm_random.fit(X_train_undersampled, y_train_undersampled)\n",
    "end_time = time.time()\n",
    "est_time = (end_time - start_time)\n",
    "\n",
    "# Print estimation time\n",
    "print(f\"Estimation time: {est_time/60:.2f} minutes\")\n",
    "\n",
    "# Print the best parameters\n",
    "print(\"Best hyperparameters found:\", svm_random.best_params_)"
   ]
  },
  {
   "cell_type": "code",
   "execution_count": null,
   "id": "d99b8f93",
   "metadata": {},
   "outputs": [],
   "source": [
    "# Obtain evaluation metrics for training data:\n",
    "# Step 1: Use cross_val_predict to get cross-validated predictions for training data\n",
    "y_train_pred = cross_val_predict(svm_random.best_estimator_, X_train, y_train, cv=5)\n",
    "\n",
    "# Step 2: Calculate the confusion matrix\n",
    "conf_matrix = confusion_matrix(y_train, y_train_pred)\n",
    "\n",
    "# Step 3: Generate the classification report\n",
    "class_report = classification_report(y_train, y_train_pred)\n",
    "\n",
    "# Print results\n",
    "print(\"Confusion Matrix:\")\n",
    "print(conf_matrix)\n",
    "\n",
    "print(\"\\nClassification Report:\")\n",
    "print(class_report)"
   ]
  },
  {
   "cell_type": "code",
   "execution_count": null,
   "id": "8e5af703",
   "metadata": {},
   "outputs": [],
   "source": [
    "#Examine feature coefficient from the best model\n",
    "coefficients = svm_random.best_params_.coef_[0]\n",
    "\n",
    "feature_importance = pd.DataFrame({\n",
    "    'Feature': X.columns,\n",
    "    'Coefficient': coefficients\n",
    "})\n",
    "\n",
    "print(feature_importance)\n",
    "\n",
    "# Sort by absolute value of coefficients\n",
    "feature_importance['Abs_Coefficient'] = feature_importance['Coefficient'].abs()\n",
    "feature_importance = feature_importance.sort_values(by='Abs_Coefficient', ascending=False)\n",
    "\n",
    "#The top 20 features\n",
    "print(feature_importance[0:20])"
   ]
  },
  {
   "cell_type": "code",
   "execution_count": null,
   "id": "333c0520",
   "metadata": {},
   "outputs": [],
   "source": [
    "# Plot the top 20 features based on absolute coefficient values\n",
    "top_20_features = feature_importance.head(20)  # Select the top 20 features\n",
    "\n",
    "plt.figure(figsize=(10, 6))\n",
    "plt.barh(top_20_features['Feature'], top_20_features['Coefficient'], color='skyblue')  # Horizontal bar plot\n",
    "plt.xlabel('Coefficient Value')\n",
    "plt.ylabel('Feature')\n",
    "plt.title('Top 20 Features by Coefficient Value (Logistic Regression)')\n",
    "plt.gca().invert_yaxis()  # Invert y-axis to have the largest feature at the top\n",
    "plt.show()"
   ]
  },
  {
   "cell_type": "markdown",
   "id": "f063d079",
   "metadata": {},
   "source": [
    "## Extreme Gradient Boosting (XGBoost)"
   ]
  },
  {
   "cell_type": "markdown",
   "id": "964b8f47",
   "metadata": {},
   "source": [
    "XGBoost is a boosting ensemble method, with sequential training of individual models. This method can handle imbalanced data well."
   ]
  },
  {
   "cell_type": "code",
   "execution_count": 34,
   "id": "7171c42e",
   "metadata": {},
   "outputs": [
    {
     "name": "stdout",
     "output_type": "stream",
     "text": [
      "Fitting 5 folds for each of 20 candidates, totalling 100 fits\n",
      "Estimation time: 6.54 minutes\n",
      "Best hyperparameters found: {'subsample': 0.7, 'scale_pos_weight': 20, 'reg_lambda': 1.5, 'reg_alpha': 0, 'n_estimators': 100, 'min_child_weight': 3, 'max_depth': 7, 'learning_rate': 0.01, 'gamma': 0, 'colsample_bytree': 0.8}\n"
     ]
    }
   ],
   "source": [
    "# Define the parameter grid for XGBoost\n",
    "param_distributions = {\n",
    "    'n_estimators': [100, 200, 300],  # Number of trees\n",
    "    'max_depth': [3, 5, 7, 10],      # Maximum depth of trees\n",
    "    'min_child_weight': [1, 3, 5, 7],  # Minimum sum of weights in a child node\n",
    "    'subsample': [0.7, 0.8, 1.0],    # Subsample ratio\n",
    "    'colsample_bytree': [0.7, 0.8, 1.0], # Fraction of features to be used for each tree\n",
    "    'learning_rate': [0.01, 0.1, 0.2],  # Step size shrinkage\n",
    "    'gamma': [0, 0.1, 0.2],           # Minimum loss reduction\n",
    "    'reg_alpha': [0, 0.1, 1],         # L1 regularization term\n",
    "    'reg_lambda': [1, 1.5, 2],         # L2 regularization term\n",
    "    'scale_pos_weight': [10, 15.7, 20]  # Handling imbalanced data\n",
    "}\n",
    "\n",
    "# Set up the XGBoost classifier\n",
    "xgb = XGBClassifier(random_state=42)\n",
    "\n",
    "# Perform randomized search with 10 iterations and 5-fold cross-validation\n",
    "xgb_random = RandomizedSearchCV(estimator=xgb, \n",
    "                                param_distributions=param_distributions, \n",
    "                                n_iter=20,  \n",
    "                                cv=5,       \n",
    "                                scoring='recall', \n",
    "                                random_state=42, \n",
    "                                verbose=1, \n",
    "                                n_jobs=-1)\n",
    "\n",
    "# Time the fitting process\n",
    "start_time = time.time()\n",
    "xgb_random.fit(X_train, y_train)\n",
    "end_time = time.time()\n",
    "est_time = (end_time - start_time)\n",
    "\n",
    "# Print estimation time\n",
    "print(f\"Estimation time: {est_time/60:.2f} minutes\")\n",
    "\n",
    "# Print the best parameters found by RandomizedSearchCV\n",
    "print(\"Best hyperparameters found:\", xgb_random.best_params_)"
   ]
  },
  {
   "cell_type": "code",
   "execution_count": 35,
   "id": "905094ab",
   "metadata": {},
   "outputs": [
    {
     "name": "stdout",
     "output_type": "stream",
     "text": [
      "Confusion Matrix:\n",
      "[[244586  81942]\n",
      " [  3128  16591]]\n",
      "\n",
      "Classification Report:\n",
      "              precision    recall  f1-score   support\n",
      "\n",
      "           0       0.99      0.75      0.85    326528\n",
      "           1       0.17      0.84      0.28     19719\n",
      "\n",
      "    accuracy                           0.75    346247\n",
      "   macro avg       0.58      0.80      0.57    346247\n",
      "weighted avg       0.94      0.75      0.82    346247\n",
      "\n"
     ]
    }
   ],
   "source": [
    "# Obtain evaluation metrics for training data:\n",
    "# Step 1: Use cross_val_predict to get cross-validated predictions for training data\n",
    "y_train_pred = cross_val_predict(xgb_random.best_estimator_, X_train, y_train, cv=5)\n",
    "\n",
    "# Step 2: Calculate the confusion matrix\n",
    "conf_matrix = confusion_matrix(y_train, y_train_pred)\n",
    "\n",
    "# Step 3: Generate the classification report\n",
    "xgb_class_report = classification_report(y_train, y_train_pred)\n",
    "\n",
    "# Print results\n",
    "print(\"Confusion Matrix:\")\n",
    "print(conf_matrix)\n",
    "\n",
    "print(\"\\nXGBoost Classification Report:\")\n",
    "print(xgb_class_report)"
   ]
  },
  {
   "cell_type": "markdown",
   "id": "f67f270a",
   "metadata": {},
   "source": [
    "## Naïve Bayes"
   ]
  },
  {
   "cell_type": "markdown",
   "id": "a44a4c18",
   "metadata": {},
   "source": [
    "### Gaussian Naïve Bayes"
   ]
  },
  {
   "cell_type": "code",
   "execution_count": 36,
   "id": "a05f4b88",
   "metadata": {},
   "outputs": [
    {
     "name": "stdout",
     "output_type": "stream",
     "text": [
      "Fitting 5 folds for each of 4 candidates, totalling 20 fits\n",
      "Estimation time: 0.10 minutes\n",
      "Best hyperparameters found: {'var_smoothing': 1e-09}\n"
     ]
    }
   ],
   "source": [
    "#Treating features as continuous, use GaussianNB\n",
    "# Define parameters for randomized search for Naive Bayes (GaussianNB)\n",
    "param_dist = {\n",
    "    'var_smoothing': [1e-9, 1e-8, 1e-7, 1e-6]  # Variance smoothing parameter for GaussianNB\n",
    "}\n",
    "\n",
    "# Set up the Gaussian Naive Bayes model\n",
    "gnb = GaussianNB()\n",
    "\n",
    "# Setup the RandomizedSearchCV\n",
    "nb_random = RandomizedSearchCV(estimator=gnb,\n",
    "                               param_distributions=param_dist,\n",
    "                               n_iter=4,  # Number of different combinations to try\n",
    "                               cv=5,  # Number of cross-validation folds\n",
    "                               scoring=\"recall\",\n",
    "                               verbose=2,\n",
    "                               random_state=42,\n",
    "                               n_jobs=-1)  # Use all available cores\n",
    "\n",
    "# Time the fitting process\n",
    "start_time = time.time()\n",
    "nb_random.fit(X_train, y_train)\n",
    "end_time = time.time()\n",
    "est_time = (end_time - start_time)\n",
    "\n",
    "# Print estimation time\n",
    "print(f\"Estimation time: {est_time/60:.2f} minutes\")\n",
    "\n",
    "# Print the best parameters\n",
    "print(\"Best hyperparameters found:\", nb_random.best_params_)"
   ]
  },
  {
   "cell_type": "code",
   "execution_count": 37,
   "id": "3f89d947",
   "metadata": {},
   "outputs": [
    {
     "name": "stdout",
     "output_type": "stream",
     "text": [
      "Confusion Matrix:\n",
      "[[266989  59539]\n",
      " [  5780  13939]]\n",
      "\n",
      "Classification Report:\n",
      "              precision    recall  f1-score   support\n",
      "\n",
      "           0       0.98      0.82      0.89    326528\n",
      "           1       0.19      0.71      0.30     19719\n",
      "\n",
      "    accuracy                           0.81    346247\n",
      "   macro avg       0.58      0.76      0.60    346247\n",
      "weighted avg       0.93      0.81      0.86    346247\n",
      "\n"
     ]
    }
   ],
   "source": [
    "# Obtain evaluation metrics for training data:\n",
    "# Step 1: Use cross_val_predict to get cross-validated predictions for training data\n",
    "y_train_pred = cross_val_predict(nb_random.best_estimator_, X_train, y_train, cv=5)\n",
    "\n",
    "# Step 2: Calculate the confusion matrix\n",
    "conf_matrix = confusion_matrix(y_train, y_train_pred)\n",
    "\n",
    "# Step 3: Generate the classification report\n",
    "nb_class_report = classification_report(y_train, y_train_pred)\n",
    "\n",
    "# Print results\n",
    "print(\"Confusion Matrix:\")\n",
    "print(conf_matrix)\n",
    "\n",
    "print(\"\\nNaïve Bayes Classification Report:\")\n",
    "print(nb_class_report)"
   ]
  },
  {
   "cell_type": "markdown",
   "id": "725f6514",
   "metadata": {},
   "source": [
    "## Model Selection"
   ]
  },
  {
   "cell_type": "markdown",
   "id": "e98d70d9",
   "metadata": {},
   "source": [
    "Given the imbalanced data, I use the recall score for the positive calss and macro average of the recall scores across classes for selecting the best model. Here is the comparison for the four models:\n",
    "1. Logistic regression: recall(1) = 0.76; recall(avg) = 0.80; precision = , f1-score = \n",
    "2. Random forest: recall(1) = 0.78; recall(avg) = 0.80; precision = , f1-score =  \n",
    "3. XGBoost: recall(1) = 0.84; recall(avg) = 0.80; precision = , f1-score = \n",
    "4. Naive Bayes: recall(1) = 0.71; recall(avg) = 0.76; precision = , f1-score = "
   ]
  },
  {
   "cell_type": "code",
   "execution_count": null,
   "id": "87b60c7b",
   "metadata": {},
   "outputs": [],
   "source": [
    "print(\"\\nLogistic Regression Classification Report:\")\n",
    "print(logreg_class_report)\n",
    "\n",
    "print(\"\\nRandom Forest Classification Report:\")\n",
    "print(rf_class_report)\n",
    "\n",
    "print(\"\\nXGBoost Classification Report:\")\n",
    "print(xgb_class_report)\n",
    "\n",
    "print(\"\\nNaïve Bayes Classification Report:\")\n",
    "print(nb_class_report)"
   ]
  },
  {
   "cell_type": "markdown",
   "id": "94de1f71",
   "metadata": {},
   "source": [
    "Therefore, XGBoost is our best model."
   ]
  },
  {
   "cell_type": "markdown",
   "id": "65a40646",
   "metadata": {},
   "source": [
    "## Final Model and Pipeline"
   ]
  },
  {
   "cell_type": "code",
   "execution_count": null,
   "id": "6ef96aed",
   "metadata": {},
   "outputs": [],
   "source": []
  },
  {
   "cell_type": "markdown",
   "id": "448c5d14",
   "metadata": {},
   "source": [
    "## Final Model Evaluation"
   ]
  },
  {
   "cell_type": "code",
   "execution_count": null,
   "id": "ca79c3f3",
   "metadata": {},
   "outputs": [],
   "source": [
    "# Evaluate on the test set\n",
    "y_pred = xxx.predict(X_test)\n",
    "\n",
    "# Calculate the confusion matrix\n",
    "conf_matrix = confusion_matrix(y_test, y_pred)\n",
    "\n",
    "# Generate the classification report\n",
    "class_report = classification_report(y_test, y_pred)\n",
    "\n",
    "# Print results\n",
    "print(\"Confusion Matrix:\")\n",
    "print(conf_matrix)\n",
    "\n",
    "print(\"\\nClassification Report:\")\n",
    "print(class_report)"
   ]
  },
  {
   "cell_type": "markdown",
   "id": "c72a584d",
   "metadata": {},
   "source": [
    "### Save the Final Model"
   ]
  },
  {
   "cell_type": "code",
   "execution_count": 19,
   "id": "11c1bc89",
   "metadata": {},
   "outputs": [],
   "source": [
    "#Dummy encoding (state + race)\n",
    "path = 'D:\\\\Springboard\\\\Projects\\\\capstone2\\\\Heart-Attack\\\\data\\\\'\n",
    "\n"
   ]
  },
  {
   "cell_type": "markdown",
   "id": "eb79f7fc",
   "metadata": {},
   "source": [
    "## Summary"
   ]
  },
  {
   "cell_type": "markdown",
   "id": "3a92ff85",
   "metadata": {},
   "source": [
    "In this modeling stage, the primary objective is to choose the best classifier and best model parameters for predicting Heart Attack in the dataset. This involves a series of steps: 1) run a few different models (logistic regression, random forest, XGBoost, and Naive Bayes Classifier), 2) examine a evaluation metrics, including accuracy, precision, recall, and f-1 score, 3) Choose the best model based on a specific evaluation metric (i.e., recall here because we want to minimize the risk false negatives -- the risk saying that a person does not have heart attack when in fact the person has) and identify be best parameters, 4) examine performace or evaluation metrics on the test set, 5) examine feature importance, and 6) create pipeline for the final model.\n"
   ]
  },
  {
   "cell_type": "code",
   "execution_count": null,
   "id": "6a84f821",
   "metadata": {},
   "outputs": [],
   "source": []
  }
 ],
 "metadata": {
  "kernelspec": {
   "display_name": "springboard2",
   "language": "python",
   "name": "springboard2"
  },
  "language_info": {
   "codemirror_mode": {
    "name": "ipython",
    "version": 3
   },
   "file_extension": ".py",
   "mimetype": "text/x-python",
   "name": "python",
   "nbconvert_exporter": "python",
   "pygments_lexer": "ipython3",
   "version": "3.9.7"
  }
 },
 "nbformat": 4,
 "nbformat_minor": 5
}
